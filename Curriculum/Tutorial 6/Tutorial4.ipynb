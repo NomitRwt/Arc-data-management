{
 "cells": [
  {
   "cell_type": "markdown",
   "metadata": {},
   "source": [
    "# Raster data: Watershed Delineation\n",
    "\n",
    "Documentation reference: https://support.esri.com/en-us/knowledge-base/how-to-create-a-watershed-model-using-the-hydrology-too-000012346\n",
    "\n",
    "Data Required:\n",
    "1. Digital Elevation Model\n",
    "2. Polygon of study area\n",
    "3. Pour Points shapefile"
   ]
  },
  {
   "cell_type": "markdown",
   "metadata": {},
   "source": [
    "What is watershed delineation?\n",
    "It is the process through which we can identify which area contributes to the outflow of water through a specific point (know as pour points).\n",
    "\n",
    "Steps/Tools used:\n",
    "1. Clip: The DEM raster needs to be clipped as per the study area polygon.\n",
    "2. Fill: Smoothens out the sudden sinks and peaks (outliers) in the raster, so we get a continuous surface.\n",
    "3. Flow direction: Determines the direction of flow from each cell to its steepest downslope neighbor.\n",
    "4. Flow accumulation: Calculates the accumulated flow to each cell, as determined by the accumulated weight of all cells that flow into each downslope cell.\n",
    "5. Snap to pour points: "
   ]
  },
  {
   "cell_type": "code",
   "execution_count": 23,
   "metadata": {},
   "outputs": [
    {
     "name": "stdout",
     "output_type": "stream",
     "text": [
      "Found DEM\n",
      "Found polygon\n",
      "Found pour points\n"
     ]
    }
   ],
   "source": [
    "# Setting up environment and input data\n",
    "\n",
    "import arcpy\n",
    "\n",
    "\n",
    "# Set up the workspace with overwrite output set to true\n",
    "working_dir = r\"C:\\Users\\nomitrawat\\Documents\\Training\\Data\\Raster\\Dehradun\"\n",
    "arcpy.env.workspace = working_dir\n",
    "arcpy.env.overwriteOutput = True\n",
    "\n",
    "# Input datasets\n",
    "dem = \"DEM.tif\"\n",
    "polygon = \"tehri_polygon.shp\"\n",
    "pour_point = \"pour_point.shp\"\n",
    "\n",
    "# Check the dataset\n",
    "if arcpy.Exists(dem):\n",
    "    print(\"Found DEM\")\n",
    "\n",
    "if arcpy.Exists(polygon):\n",
    "    print(\"Found polygon\")\n",
    "\n",
    "if arcpy.Exists(pour_point):\n",
    "    print(\"Found pour points\")"
   ]
  },
  {
   "cell_type": "markdown",
   "metadata": {},
   "source": [
    "# Watershed delineation"
   ]
  },
  {
   "cell_type": "code",
   "execution_count": 24,
   "metadata": {},
   "outputs": [
    {
     "data": {
      "text/html": [
       "<div class='gpresult'><h2>Messages</h2><div id='messages'>Start Time: 24 September 2024 13:09:27<br>Building Pyramids...<br>Succeeded at 24 September 2024 13:09:27 (Elapsed Time: 0.33 seconds)<br></div><div id = 'default' /></div></div>"
      ],
      "text/plain": [
       "<Result 'C:\\\\Users\\\\nomitrawat\\\\Documents\\\\Training\\\\Data\\\\Raster\\\\Dehradun\\\\clipped_dem'>"
      ]
     },
     "execution_count": 24,
     "metadata": {},
     "output_type": "execute_result"
    }
   ],
   "source": [
    "#Clip\n",
    "\n",
    "clipped = arcpy.management.Clip(\n",
    "    in_raster = dem,\n",
    "    in_template_dataset = polygon,\n",
    "    out_raster = \"clipped_dem\",\n",
    "    clipping_geometry=\"ClippingGeometry\"\n",
    ")\n",
    "\n",
    "clipped"
   ]
  },
  {
   "cell_type": "code",
   "execution_count": 26,
   "metadata": {},
   "outputs": [],
   "source": [
    "#Fill\n",
    "\n",
    "fill = arcpy.sa.Fill(clipped)\n",
    "fill.save(\"filled\")\n",
    "#note\n",
    "#name of the file provided as the argument\n",
    "#saves the file in the workspace"
   ]
  },
  {
   "cell_type": "code",
   "execution_count": 27,
   "metadata": {},
   "outputs": [],
   "source": [
    "#Flow direction\n",
    "\n",
    "flow_dir = arcpy.sa.FlowDirection(fill)\n",
    "flow_dir.save(\"flow_dir\")\n",
    "#note\n",
    "#name should have less than 13 characters for ESRI grid format"
   ]
  },
  {
   "cell_type": "code",
   "execution_count": 28,
   "metadata": {},
   "outputs": [],
   "source": [
    "#Flow accumulation\n",
    "\n",
    "flow_acc = arcpy.sa.FlowAccumulation(flow_dir)\n",
    "flow_acc.save(\"flow_acc\")"
   ]
  },
  {
   "cell_type": "code",
   "execution_count": 30,
   "metadata": {},
   "outputs": [],
   "source": [
    "#Snap pour point\n",
    "\n",
    "snap_pour = arcpy.sa.SnapPourPoint(pour_point, flow_acc, 0)\n",
    "snap_pour.save(\"snap_pour\")\n",
    "#note\n",
    "#snap distance needs to be provided"
   ]
  },
  {
   "cell_type": "code",
   "execution_count": 31,
   "metadata": {},
   "outputs": [],
   "source": [
    "#Watershed\n",
    "\n",
    "watershed = arcpy.sa.Watershed(flow_dir, snap_pour)\n",
    "watershed.save(\"watershed\")"
   ]
  },
  {
   "cell_type": "code",
   "execution_count": 32,
   "metadata": {},
   "outputs": [],
   "source": [
    "#Raster to polygon\n",
    "\n",
    "watershed_poly = arcpy.conversion.RasterToPolygon(watershed, \"watershed.shp\")"
   ]
  },
  {
   "cell_type": "code",
   "execution_count": null,
   "metadata": {},
   "outputs": [],
   "source": []
  }
 ],
 "metadata": {
  "kernelspec": {
   "display_name": "ArcGISPro",
   "language": "Python",
   "name": "python3"
  },
  "language_info": {
   "file_extension": ".py",
   "name": "python",
   "version": "3"
  }
 },
 "nbformat": 4,
 "nbformat_minor": 2
}
