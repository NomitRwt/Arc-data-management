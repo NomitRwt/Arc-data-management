{
 "cells": [
  {
   "cell_type": "markdown",
   "metadata": {},
   "source": [
    "# Pre-requisites\n",
    "\n",
    "## Python\n",
    "1. Variables\n",
    "2. Control flow\n",
    "    1. If else statements\n",
    "    2. For loops\n",
    "    3. Logical operators\n",
    "3. Data types\n",
    "    1. Lists\n",
    "    2. Dictionary\n",
    "    3. Sets\n",
    "4. Function declaration, argument passing\n",
    "5. File handling\n",
    "6. Exception\n",
    "7. Object oriented programming\n",
    "\n",
    "## GIS\n",
    "1. Data types\n",
    "2. Spatial referencing\n",
    "3. Geoprocessing tools\n",
    "4. Familiarity with arcigs interface\n",
    "\n",
    "## Data\n",
    "[Survey of India Administrative Boundary Database](https://onlinemaps.surveyofindia.gov.in/Digital_Product_Show.aspx)"
   ]
  },
  {
   "cell_type": "markdown",
   "metadata": {},
   "source": [
    "# Introduction to arcpy\n",
    "\n",
    "Python library offered by esri for manipulating geographic data.\n",
    "\n",
    "Uses:\n",
    "- Doing a repetitive step, automate geoprocessing workflows.\n",
    "- Can build more application by combining it with other applications.\n",
    "- Can build custom toolboxes.\n",
    "- Can use arcgis api for python to manage data in arcgis online or portal."
   ]
  },
  {
   "cell_type": "markdown",
   "metadata": {},
   "source": [
    "# Environment settings\n",
    "1. In many example code at ESRI documentation you can see this method being used. Example\n",
    "\n",
    "`arcpy.env.workspace=\"somepath\"`\n",
    "\n",
    "2. This helps to specify the workspace which helps in co-ordinate system, path to input and output file location.\n",
    "\n",
    "# Tool and non tool\n",
    "\n",
    "1. Tools and non tools can looked as methods available inside python. Basic difference is you can find a dedicated toolbox for a tool.\n",
    "2. Example tool: https://pro.arcgis.com/en/pro-app/latest/tool-reference/data-management/copy.htm\n",
    "3. Example non-tool: https://pro.arcgis.com/en/pro-app/latest/arcpy/functions/exists.htm\n",
    "4. Tools return a result object which may be a path, number or boolean"
   ]
  },
  {
   "cell_type": "markdown",
   "metadata": {},
   "source": [
    "# Data Preprocessing"
   ]
  },
  {
   "cell_type": "code",
   "execution_count": 1,
   "metadata": {},
   "outputs": [
    {
     "name": "stdout",
     "output_type": "stream",
     "text": [
      "Found the feature class\n",
      "The out is at the following path:\n",
      "C:\\Users\\nomitrawat\\Documents\\Training\\Data\\Administrative Boundary Database\\STATE_BOUNDARY_COPY.shp\n"
     ]
    }
   ],
   "source": [
    "import arcpy\n",
    "\n",
    "# Environment settings\n",
    "arcpy.env.workspace = r\"C:\\Users\\nomitrawat\\Documents\\Training\\Data\\Administrative Boundary Database\"\n",
    "arcpy.overwriteOutput = True\n",
    "\n",
    "# Example of a non-tool method that returns boolean\n",
    "if arcpy.Exists(\"STATE_BOUNDARY.shp\"):\n",
    "    print(\"Found the feature class\")\n",
    "\n",
    "# Example of a tool that returns a path\n",
    "result = arcpy.management.Copy(\"STATE_BOUNDARY.shp\", \"STATE_BOUNDARY_COPY.shp\")\n",
    "\n",
    "print(\"The output is at the following path:\")\n",
    "print(result)"
   ]
  },
  {
   "cell_type": "markdown",
   "metadata": {},
   "source": [
    "# Some key points\n",
    "\n",
    "1. Modular division similar to how toolboxes are divided.\n",
    "2. Can write standalone scripts in python.\n",
    "3. Use conda to clone the arcpy environment and build applications on top of it.\n",
    "4. [Usefull link for how to access arcgis interpreter in visual studio code and using conda to clone the environment](https://resources.esri.ca/getting-technical/how-to-configure-visual-studio-code-with-arcgis-pro-s-python-environment)"
   ]
  },
  {
   "cell_type": "markdown",
   "metadata": {},
   "source": [
    "# Working with data\n",
    "\n",
    "1. Inspect the attribute table for \"STATE_BOUNDARY_COPY.shp\".\n",
    "2. Manually identifying all the errors tedious.\n",
    "3. Use cursors.\n",
    "\n",
    "# Searching for errors using cursor\n",
    "1. Go through each row in the attribute table.\n",
    "2. Three types\n",
    "    1. Search\n",
    "    2. Update\n",
    "    3. Insert"
   ]
  },
  {
   "cell_type": "code",
   "execution_count": 1,
   "metadata": {},
   "outputs": [
    {
     "ename": "NameError",
     "evalue": "name 'result' is not defined",
     "output_type": "error",
     "traceback": [
      "\u001b[0;31m---------------------------------------------------------------------------\u001b[0m\n\u001b[0;31mNameError\u001b[0m                                 Traceback (most recent call last)",
      "In  \u001b[0;34m[1]\u001b[0m:\nLine \u001b[0;34m5\u001b[0m:     \u001b[34mwith\u001b[39;49;00m arcpy.da.SearchCursor(result, fields) \u001b[34mas\u001b[39;49;00m cursor:\u001b[37m\u001b[39;49;00m\n",
      "\u001b[0;31mNameError\u001b[0m: name 'result' is not defined\n\u001b[0;31m---------------------------------------------------------------------------\u001b[0m"
     ]
    }
   ],
   "source": [
    "# Contains fields that need to checked\n",
    "fields, characters = [\"OID@\", \"STATE\"], {}\n",
    "\n",
    "# Search cursor\n",
    "with arcpy.da.SearchCursor(result, fields) as cursor:\n",
    "    # Each row in the attribute table\n",
    "    for row in cursor:\n",
    "        feature_id, state_name = row[0], row[1]\n",
    "        \n",
    "        for letter in state_name:\n",
    "            \n",
    "            #Skip\n",
    "            #Empty spaces, \"&\", Commas, Brackets\n",
    "            if letter == \" \" or letter == \"&\" or letter == \"(\" or letter == \")\" or letter == \",\":\n",
    "                continue\n",
    "            \n",
    "            # Check whether the letter is non-alphabet\n",
    "            if not letter.isalpha():\n",
    "                if letter not in characters:\n",
    "                    characters[letter]=[]\n",
    "                \n",
    "                characters[letter]+=[feature_id]\n",
    "\n",
    "# Just printing non-alphabets and feature ids\n",
    "for character, feature_ids in characters.items():\n",
    "    print(f\"Non alaphabet character: {character}\")\n",
    "    print(\"Occurs at the following Object ID\")\n",
    "    for index in range(len(feature_ids)):\n",
    "        if index == len(feature_ids)-1:\n",
    "            print(feature_ids[index])\n",
    "        else:\n",
    "            print(feature_ids[index], end = \" ,\")\n",
    "        "
   ]
  },
  {
   "cell_type": "markdown",
   "metadata": {},
   "source": [
    "# Updating errors\n",
    "\n",
    "We will update all the instances of errors using an update cursor."
   ]
  },
  {
   "cell_type": "code",
   "execution_count": 3,
   "metadata": {},
   "outputs": [],
   "source": [
    "# Update cursor using the same fields as declared above\n",
    "with arcpy.da.UpdateCursor(result, fields) as cursor:\n",
    "    for row in cursor:\n",
    "        state_name = row[1]\n",
    "        new_state_name = \"\"\n",
    "        \n",
    "        for letter in state_name:\n",
    "            if letter == \">\":\n",
    "                new_state_name += \"A\"\n",
    "            elif letter == \"|\":\n",
    "                new_state_name += \"I\"\n",
    "            # The state chattisgarh has a lower case \"t\"\n",
    "            elif letter.islower():\n",
    "                new_state_name += letter.upper()\n",
    "            else:\n",
    "                new_state_name += letter\n",
    "        \n",
    "        row[1] = new_state_name\n",
    "        \n",
    "        # Don't forget to update the row\n",
    "        cursor.updateRow(row)"
   ]
  },
  {
   "cell_type": "markdown",
   "metadata": {},
   "source": [
    "# Some other usefull methods\n",
    "\n",
    "1. Listing fields in the feature class.\n",
    "2. Listing all the fields in the workspace/geodatabase.\n",
    "3. Checking spatial reference"
   ]
  },
  {
   "cell_type": "code",
   "execution_count": 24,
   "metadata": {},
   "outputs": [
    {
     "name": "stdout",
     "output_type": "stream",
     "text": [
      "Fields present :\n",
      "FID\n",
      "Shape\n",
      "STATE\n",
      "State_LGD\n",
      "Shape_Leng\n",
      "Shape_Area\n",
      "Feature classes present :\n",
      "DISTRICT_BOUNDARY.shp\n",
      "DISTRICT_HQ.shp\n",
      "MAJOR_TOWNS.shp\n",
      "STATE_BOUNDARY.shp\n",
      "STATE_BOUNDARY_COPY.shp\n",
      "STATE_HQ.shp\n",
      "SUBDISTRICT_BOUNDARY.shp\n",
      "Name of the spatial reference:\n",
      "LCC_WGS84\n"
     ]
    }
   ],
   "source": [
    "fields = arcpy.ListFields(\"STATE_BOUNDARY_COPY.shp\")\n",
    "print(\"Fields present :\")\n",
    "for field in fields:\n",
    "    print(field.name)\n",
    "    \n",
    "feature_classes = arcpy.ListFeatureClasses()\n",
    "print(\"Feature classes present :\")\n",
    "for feature_class in feature_classes:\n",
    "    print(feature_class)\n",
    "\n",
    "spatial_reference = arcpy.Describe(\"STATE_BOUNDARY_COPY.shp\").spatialReference\n",
    "print(\"Name of the spatial reference:\")\n",
    "print(spatial_reference.name)"
   ]
  },
  {
   "cell_type": "markdown",
   "metadata": {},
   "source": [
    "# Exercise\n",
    "1. Check the following feature classes for errors and correct them if any:\n",
    "    1. DISTRICT_BOUNDARY.shp\n",
    "    2. SUBDISTRICT_BOUNDARY.shp\n",
    "\n",
    "2. Delete the geometries having disputed boundaries."
   ]
  }
 ],
 "metadata": {
  "kernelspec": {
   "display_name": "ArcGISPro",
   "language": "Python",
   "name": "python3"
  },
  "language_info": {
   "file_extension": ".py",
   "name": "python",
   "version": "3"
  }
 },
 "nbformat": 4,
 "nbformat_minor": 2
}
