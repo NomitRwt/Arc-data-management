{
 "cells": [
  {
   "cell_type": "markdown",
   "metadata": {},
   "source": [
    "1. Keep the map processing paused.\n",
    "2. Turn off/keep only the required layers in the map\n",
    "3. Turn off the basemap after checking the projection"
   ]
  },
  {
   "cell_type": "markdown",
   "metadata": {},
   "source": [
    "# Converting the cad files\n",
    "One file at a time"
   ]
  },
  {
   "cell_type": "code",
   "execution_count": 5,
   "metadata": {},
   "outputs": [],
   "source": [
    "import arcpy, os, time"
   ]
  },
  {
   "cell_type": "markdown",
   "metadata": {},
   "source": [
    "- Create an output gdb to keep the converted cad files\n",
    "- **Fill the parameters below**"
   ]
  },
  {
   "cell_type": "code",
   "execution_count": 6,
   "metadata": {},
   "outputs": [],
   "source": [
    "# Parameters\n",
    "input_cad_file = r\"\\\\cgaueprodgissa01.cimic.group\\gis-share\\Projects\\VIC\\VIC_HAS\\DATA\\CAD\\XREFS\\CP1057-GHD-003-XREF-00004_UG_Services.dwg\"\n",
    "spatial_reference = 7855\n",
    "output_gdb = r\"\\\\cgaueprodgissa01.cimic.group\\gis-share\\Projects\\VIC\\VIC_HAS\\WORKING\\NR\\Demo\\Demo.gdb\""
   ]
  },
  {
   "cell_type": "markdown",
   "metadata": {},
   "source": [
    "After the tool runs check whether the **cad files are falling on the right place**"
   ]
  },
  {
   "cell_type": "code",
   "execution_count": 3,
   "metadata": {},
   "outputs": [
    {
     "data": {
      "text/html": [
       "<div class='gpresult'><h2>Messages</h2><div id='messages' data-messages='[\"Start Time: Tuesday, September 9, 2025 3:22:03 PM\",\"Succeeded at Tuesday, September 9, 2025 3:22:03 PM (Elapsed Time: 0.23 seconds)\"]' data-show='true'><div id = 'default' /></div></div>"
      ],
      "text/plain": [
       "<Result 'Z:\\\\Projects\\\\VIC\\\\VIC_HAS\\\\DATA\\\\CAD\\\\XREFS\\\\CP1057-GHD-003-XREF-00004_UG_Services.dwg'>"
      ]
     },
     "execution_count": 3,
     "metadata": {},
     "output_type": "execute_result"
    }
   ],
   "source": [
    "# Define the projection\n",
    "arcpy.DefineProjection_management(input_cad_file, spatial_reference)"
   ]
  },
  {
   "cell_type": "code",
   "execution_count": 8,
   "metadata": {},
   "outputs": [
    {
     "name": "stdout",
     "output_type": "stream",
     "text": [
      "Execution time: 2068.674816131592\n"
     ]
    }
   ],
   "source": [
    "# Convert the cad files\n",
    "# Set the workspace environment to cad file\n",
    "arcpy.env.workspace = input_cad_file\n",
    "\n",
    "# List all CAD feature layers from the input CAD file\n",
    "cad_layers = arcpy.ListFeatureClasses(\"*\")\n",
    "\n",
    "#Timing\n",
    "start_time = time.time()\n",
    "# Convert the files\n",
    "for cad_layer in cad_layers:\n",
    "    # Output Layer name\n",
    "    output_fc_name = os.path.basename(cad_layer)\n",
    "\n",
    "    # Use FeatureClassToFeatureClass tool to convert each layer\n",
    "    arcpy.conversion.FeatureClassToFeatureClass(\n",
    "        in_features=cad_layer,\n",
    "        out_path=output_gdb,\n",
    "        out_name=output_fc_name\n",
    "    )\n",
    "\n",
    "# Timing\n",
    "end_time = time.time()\n",
    "elapsed_time = end_time-start_time\n",
    "print(f\"Execution time: {elapsed_time}\")"
   ]
  },
  {
   "cell_type": "markdown",
   "metadata": {},
   "source": [
    "## Only for bulk conversion of cad files\n",
    "\n",
    "Assuming all the cad files to be converted are kept in a single folder.\n",
    "\n",
    "Change the input parameters \"input_folder\", \"output_folder\", \"spatial_reference\" while running.\n",
    "\n",
    "Creates the database automatically.\n",
    "\n",
    "**Outputs of the geoprocessing are not added into the map to save processing time.**"
   ]
  },
  {
   "cell_type": "code",
   "execution_count": 13,
   "metadata": {},
   "outputs": [
    {
     "name": "stdout",
     "output_type": "stream",
     "text": [
      "Working on the cad file: CP1057-GHD-030-DWG-39001_CAD\n",
      "Creating the geodatabase\n",
      "Defining projection\n",
      "Convertion started for all the layers inside the drawing file\n",
      "Conversion completed in 222.18 seconds.\n",
      "--------------------------------------\n",
      "\n",
      "\n",
      "Working on the cad file: CP1057-GHD-030-DWG-39002_CAD\n",
      "Creating the geodatabase\n",
      "Defining projection\n",
      "Convertion started for all the layers inside the drawing file\n",
      "Conversion completed in 226.69 seconds.\n",
      "--------------------------------------\n",
      "\n",
      "\n",
      "Working on the cad file: CP1057-GHD-030-DWG-39003_CAD\n",
      "Creating the geodatabase\n",
      "Defining projection\n",
      "Convertion started for all the layers inside the drawing file\n",
      "Conversion completed in 219.33 seconds.\n",
      "--------------------------------------\n",
      "\n",
      "\n",
      "Working on the cad file: CP1057-GHD-030-DWG-39004_CAD\n",
      "Creating the geodatabase\n",
      "Defining projection\n",
      "Convertion started for all the layers inside the drawing file\n",
      "Conversion completed in 221.62 seconds.\n",
      "--------------------------------------\n",
      "\n",
      "\n",
      "Working on the cad file: CP1057-GHD-030-DWG-39005_CAD\n",
      "Creating the geodatabase\n",
      "Defining projection\n",
      "Convertion started for all the layers inside the drawing file\n",
      "Conversion completed in 218.74 seconds.\n",
      "--------------------------------------\n",
      "\n",
      "\n",
      "Working on the cad file: CP1057-GHD-030-DWG-39006_CAD\n",
      "Creating the geodatabase\n",
      "Defining projection\n",
      "Convertion started for all the layers inside the drawing file\n",
      "Conversion completed in 219.09 seconds.\n",
      "--------------------------------------\n",
      "\n",
      "\n",
      "Working on the cad file: CP1057-GHD-030-DWG-39007_CAD\n",
      "Creating the geodatabase\n",
      "Defining projection\n",
      "Convertion started for all the layers inside the drawing file\n",
      "Conversion completed in 219.37 seconds.\n",
      "--------------------------------------\n",
      "\n",
      "\n",
      "Working on the cad file: CP1057-GHD-030-DWG-39008_CAD\n",
      "Creating the geodatabase\n",
      "Defining projection\n",
      "Convertion started for all the layers inside the drawing file\n",
      "Conversion completed in 218.37 seconds.\n",
      "--------------------------------------\n",
      "\n",
      "\n",
      "Working on the cad file: CP1057-GHD-030-DWG-39009_CAD\n",
      "Creating the geodatabase\n",
      "Defining projection\n",
      "Convertion started for all the layers inside the drawing file\n",
      "Conversion completed in 216.16 seconds.\n",
      "--------------------------------------\n",
      "\n",
      "\n",
      "Working on the cad file: CP1057-GHD-030-DWG-39010_CAD\n",
      "Creating the geodatabase\n",
      "Defining projection\n",
      "Convertion started for all the layers inside the drawing file\n",
      "Conversion completed in 217.99 seconds.\n",
      "--------------------------------------\n",
      "\n",
      "\n",
      "Working on the cad file: CP1057-GHD-030-DWG-39011_CAD\n",
      "Creating the geodatabase\n",
      "Defining projection\n",
      "Convertion started for all the layers inside the drawing file\n",
      "Conversion completed in 220.98 seconds.\n",
      "--------------------------------------\n",
      "\n",
      "\n",
      "All files completed\n",
      "Printing the conversion times to outputted in a csv\n",
      "CP1057-GHD-030-DWG-39001_CAD,19938004,222.17984747886658\n",
      "CP1057-GHD-030-DWG-39002_CAD,19931137,226.68795108795166\n",
      "CP1057-GHD-030-DWG-39003_CAD,19880839,219.32805013656616\n",
      "CP1057-GHD-030-DWG-39004_CAD,19898425,221.62278985977173\n",
      "CP1057-GHD-030-DWG-39005_CAD,19911842,218.74263715744019\n",
      "CP1057-GHD-030-DWG-39006_CAD,19897268,219.08690643310547\n",
      "CP1057-GHD-030-DWG-39007_CAD,19887690,219.37354445457458\n",
      "CP1057-GHD-030-DWG-39008_CAD,19901228,218.3717589378357\n",
      "CP1057-GHD-030-DWG-39009_CAD,19906397,216.16089057922363\n",
      "CP1057-GHD-030-DWG-39010_CAD,19914072,217.9893660545349\n",
      "CP1057-GHD-030-DWG-39011_CAD,19906384,220.97921895980835\n"
     ]
    }
   ],
   "source": [
    "# Bulk conversion\n",
    "# Module import\n",
    "import arcpy, os, time\n",
    "\n",
    "# Input parameters\n",
    "input_folder = r\"\\\\cgaueprodgissa01.cimic.group\\gis-share\\Projects\\VIC\\VIC_HAS\\DATA\\CAD\\030 Construction_staging\" # CHANGE AS REQUIRED\n",
    "output_folder = r\"\\\\cgaueprodgissa01.cimic.group\\gis-share\\Projects\\VIC\\VIC_HAS\\WORKING\\NR\\Demo\\Bulk\\030 Construction_staging\" # CHANGE AS REQUIRED\n",
    "spatial_reference = 7855 # CHANGE AS REQUIRED\n",
    "\n",
    "# Disable adding output to the map\n",
    "arcpy.env.addOutputsToMap = False\n",
    "\n",
    "# Record\n",
    "conversion_time = {}\n",
    "\n",
    "# Loop through all .dwg files in the folder\n",
    "for file_name in os.listdir(input_folder):\n",
    "    if file_name.endswith(\".dwg\"):\n",
    "        \n",
    "        # Define file paths\n",
    "        input_cad_file = os.path.join(input_folder, file_name)\n",
    "        cad_base_name = os.path.splitext(file_name)[0]\n",
    "        output_gdb = os.path.join(output_folder, f\"{cad_base_name}.gdb\")\n",
    "        size = os.path.getsize(input_cad_file)\n",
    "        \n",
    "        print(f\"Working on the cad file: {cad_base_name}\")\n",
    "        \n",
    "        # Create a geodatabase for this CAD file if it doesn't exist\n",
    "        if not arcpy.Exists(output_gdb):\n",
    "            print(\"Creating the geodatabase\")\n",
    "            arcpy.management.CreateFileGDB(output_folder, f\"{cad_base_name}\")\n",
    "        \n",
    "        # Define the projection\n",
    "        print(f\"Defining projection\")\n",
    "        arcpy.DefineProjection_management(input_cad_file, spatial_reference)\n",
    "\n",
    "        # Set the workspace environment to the current CAD file\n",
    "        arcpy.env.workspace = input_cad_file\n",
    "        \n",
    "        # List all CAD feature layers in the input CAD file\n",
    "        cad_layers = arcpy.ListFeatureClasses(\"*\")\n",
    "        \n",
    "        # Start stopwatch\n",
    "        start_time = time.time()\n",
    "        \n",
    "        print(f\"Convertion started for all the layers inside the drawing file\")\n",
    "        # Convert each layer\n",
    "        for cad_layer in cad_layers:\n",
    "            # Define output feature class name\n",
    "            output_fc_name = os.path.basename(cad_layer)\n",
    "\n",
    "            # Perform the conversion\n",
    "            arcpy.conversion.FeatureClassToFeatureClass(\n",
    "                in_features=cad_layer,\n",
    "                out_path=output_gdb,\n",
    "                out_name=output_fc_name\n",
    "            )\n",
    "        \n",
    "        # Stop\n",
    "        end_time = time.time()\n",
    "        elapsed_time = end_time - start_time\n",
    "        conversion_time[cad_base_name] = [size, elapsed_time]\n",
    "        print(f\"Conversion completed in {elapsed_time:.2f} seconds.\")\n",
    "        print(\"--------------------------------------\")\n",
    "        print(\"\\n\")\n",
    "\n",
    "        \n",
    "print(\"All files completed\")\n",
    "print(\"Printing the conversion times to outputted in a csv\")\n",
    "for file in conversion_time:\n",
    "    print(f\"{file},{conversion_time[file][0]},{conversion_time[file][1]}\")"
   ]
  },
  {
   "cell_type": "markdown",
   "metadata": {},
   "source": [
    "Run the script **to extract the layer properties** to csv from the autocad"
   ]
  },
  {
   "cell_type": "markdown",
   "metadata": {},
   "source": [
    "Add the converted files into the map"
   ]
  },
  {
   "cell_type": "markdown",
   "metadata": {},
   "source": [
    "# Update symbology"
   ]
  },
  {
   "cell_type": "code",
   "execution_count": 9,
   "metadata": {},
   "outputs": [],
   "source": [
    "import csv"
   ]
  },
  {
   "cell_type": "code",
   "execution_count": 10,
   "metadata": {},
   "outputs": [],
   "source": [
    "# Load CSV into a dictionary (layer name -> (R, G, B)) ---\n",
    "csv_path = r\"\\\\cgaueprodgissa01.cimic.group\\gis-share\\Projects\\VIC\\VIC_HAS\\WORKING\\NR\\Demo\\output_layers_colors\\output_layers_colors.csv\""
   ]
  },
  {
   "cell_type": "code",
   "execution_count": 11,
   "metadata": {},
   "outputs": [],
   "source": [
    "color_dict = {}\n",
    "\n",
    "with open(csv_path, 'r') as f:\n",
    "    reader = csv.DictReader(f)\n",
    "    for row in reader:\n",
    "        color_dict[row[\"Layer Name\"]] = (int(row[\"Red\"]), int(row[\"Green\"]), int(row[\"Blue\"]))"
   ]
  },
  {
   "cell_type": "markdown",
   "metadata": {},
   "source": [
    "Check the first five entries of the csv"
   ]
  },
  {
   "cell_type": "code",
   "execution_count": 12,
   "metadata": {},
   "outputs": [
    {
     "name": "stdout",
     "output_type": "stream",
     "text": [
      "0: (255, 255, 255)\n",
      "General-Notes-Disclaimer: (173, 173, 173)\n",
      "General-North: (173, 173, 173)\n",
      "Civil-APAM Boundary: (255, 255, 0)\n",
      "Services-ARP: (255, 255, 0)\n"
     ]
    }
   ],
   "source": [
    "count = 0\n",
    "for key, value in color_dict.items():\n",
    "    if count < 5:\n",
    "        print(f\"{key}: {value}\")\n",
    "        count += 1\n",
    "    else:\n",
    "        break"
   ]
  },
  {
   "cell_type": "code",
   "execution_count": 13,
   "metadata": {},
   "outputs": [],
   "source": [
    "# --- 2. Reference your project and map ---\n",
    "aprx = arcpy.mp.ArcGISProject(\"CURRENT\")  # \"CURRENT\" is used for scripts run within Pro\n",
    "map_obj = aprx.activeMap  # Or aprx.listMaps(\"Map\")[0] for the first map"
   ]
  },
  {
   "cell_type": "code",
   "execution_count": 14,
   "metadata": {},
   "outputs": [
    {
     "name": "stdout",
     "output_type": "stream",
     "text": [
      "Map\n"
     ]
    }
   ],
   "source": [
    "print(map_obj.name)\n",
    "# print(dir(map_obj))"
   ]
  },
  {
   "cell_type": "markdown",
   "metadata": {},
   "source": [
    "The following feature layer renderers are currently supported in arcpy.mp:\n",
    "\n",
    "1. SimpleRenderer\n",
    "2. GraduatedColorsRenderer\n",
    "3. GraduatedSymbolsRenderer\n",
    "4. UnclassedColorsRenderer\n",
    "5. **UniqueValueRenderer**\n",
    "\n",
    "## Unique value renderer\n",
    "1. If you change your current renderer to the UniqueValueRenderer, you first have to set the **appropriate fields** property value.\n",
    "2. The property is **plural** because you can build a set of unique values based on multiple fields.\n",
    "3. Therefore, the fields property takes a list, even if there is only one field being used.\n",
    "4. Once you apply your fields, the renderer will automatically generate all the unique values.\n",
    "5. If, for whatever reason, new values are added to the layer, you will need to reset the renderer so that all the values are added again. \n",
    "6. You can do this by changing the fields property, or you can use the addValues method.\n",
    "7. You need to understand **how unique values are managed** in the renderer so you can navigate through the class structure to change individual items and their values.\n",
    "8. The **groups property returns a list of ItemGroup** objects.\n",
    "9. Each **ItemGroup represents a category of items that each have their own heading**.\n",
    "10. By default, there is **one ItemGroup**.\n",
    "11. The **items property** returns a **list of Item objects**.\n",
    "12. Once you have an item, you can change properties such as label and description. You can also **modify the symbol for each item**.\n",
    "13. The reason the values property is plural and returns a list is because you can also group items in an ItemGroup. Therefore, each item could have **multiple values**.\n",
    "14. The following is one way to outline the class structure:\n",
    "        groups—Returns a list of ItemGroup objects\n",
    "            1. heading\n",
    "            2. items—Returns a list of Item objects\n",
    "                1. description\n",
    "                2. label\n",
    "                3. symbol\n",
    "                4. values\n",
    "15. You can also **add and remove values** from the renderer.\n",
    "16. Each **unique value** is actually an **item** in the **object model** and **each item** is associated within an **ItemGroup**.\n",
    "17. To addValues or removeValues, you need to work with a **Python dictionary**.\n",
    "18. The dictionary key is the name of the group heading, and its value is a list of values based on the fields property.\n",
    "19. There is also a **listMissingValues** method that allows you to determine what values are currently missing from the renderer.\n",
    "20. Values would only be missing if you intentionally called removeValues, because—by default—the renderer automatically creates all unique values when the fields property is set.\n",
    "21. **If your objective is to create new group headings to organize your unique value items, you must first call removeValues to remove the items, and then use addValues to create a new group with a new heading label**."
   ]
  },
  {
   "cell_type": "code",
   "execution_count": 15,
   "metadata": {
    "scrolled": true
   },
   "outputs": [
    {
     "name": "stdout",
     "output_type": "stream",
     "text": [
      "Symbology updated.\n"
     ]
    }
   ],
   "source": [
    "# --- 3. Loop through feature layers ---\n",
    "for lyr in map_obj.listLayers():\n",
    "    if not lyr.isFeatureLayer:\n",
    "        continue\n",
    "    \n",
    "    desc = arcpy.Describe(lyr)\n",
    "    if desc.shapeType not in [\"Polygon\", \"Polyline\", \"Point\"]: #Skips the multipatch and annotation geometry\n",
    "        continue\n",
    "\n",
    "    fields = [f.name for f in arcpy.ListFields(lyr)]\n",
    "    if \"Layer\" not in fields:\n",
    "        continue\n",
    "\n",
    "    # --- 4. Setup unique value renderer based on \"Layer\" field ---\n",
    "    sym = lyr.symbology\n",
    "\n",
    "    if hasattr(sym, \"renderer\"):\n",
    "        sym.updateRenderer('UniqueValueRenderer')\n",
    "        sym.renderer.fields = ['Layer']\n",
    "\n",
    "        # Set each value's color based on color_dict\n",
    "        for group in sym.renderer.groups:\n",
    "            for item in group.items:\n",
    "                lyr_name = item.values[0][0]\n",
    "                if lyr_name in color_dict:\n",
    "                    r, g, b = color_dict[lyr_name]\n",
    "                    symbol = item.symbol\n",
    "                    # Set color for simple symbols (polygon, line, point)\n",
    "                    symbol.color = {'RGB': [r, g, b, 100]}  # 100 = full opacity\n",
    "                    item.symbol = symbol\n",
    "                else:\n",
    "                    print(\"Layer not in color dictionary\")\n",
    "\n",
    "        lyr.symbology = sym  # Apply symbology back to the layer\n",
    "\n",
    "aprx.save()\n",
    "print(\"Symbology updated.\")"
   ]
  },
  {
   "cell_type": "markdown",
   "metadata": {},
   "source": [
    "# Publish Layers"
   ]
  },
  {
   "cell_type": "markdown",
   "metadata": {},
   "source": [
    "## FeaturSharingDraft\n",
    "\n",
    "### Share a web feature layer\n",
    "- Share \"web feature layers\" "
   ]
  },
  {
   "cell_type": "code",
   "execution_count": 9,
   "metadata": {},
   "outputs": [
    {
     "name": "stdout",
     "output_type": "stream",
     "text": [
      "Active Portal: https://gis-dev.cimic.com.au/portal/\n"
     ]
    },
    {
     "ename": "ValueError",
     "evalue": "Incompatible server_type: FEDERATED_SERVER and service_type: WEBMAP",
     "output_type": "error",
     "traceback": [
      "\u001b[0;31m---------------------------------------------------------------------------\u001b[0m\n\u001b[0;31mValueError\u001b[0m                                Traceback (most recent call last)",
      "In  \u001b[0;34m[9]\u001b[0m:\nLine \u001b[0;34m23\u001b[0m:    sharing_draft = map_to_publish.getWebLayerSharingDraft(\u001b[33m\"\u001b[39;49;00m\u001b[33mFEDERATED_SERVER\u001b[39;49;00m\u001b[33m\"\u001b[39;49;00m, \u001b[33m\"\u001b[39;49;00m\u001b[33mWEBMAP\u001b[39;49;00m\u001b[33m\"\u001b[39;49;00m, service_name)\n",
      "File \u001b[0;34mC:\\Program Files\\ArcGIS\\Pro\\Resources\\ArcPy\\arcpy\\_mp.py\u001b[0m, in \u001b[0;32mgetWebLayerSharingDraft\u001b[0m:\nLine \u001b[0;34m2080\u001b[0m:  \u001b[34mraise\u001b[39;49;00m \u001b[36mValueError\u001b[39;49;00m(\u001b[33m\"\u001b[39;49;00m\u001b[33mIncompatible server_type: \u001b[39;49;00m\u001b[33m{}\u001b[39;49;00m\u001b[33m and service_type: \u001b[39;49;00m\u001b[33m{}\u001b[39;49;00m\u001b[33m\"\u001b[39;49;00m.format(server_type, service_type))\n",
      "\u001b[0;31mValueError\u001b[0m: Incompatible server_type: FEDERATED_SERVER and service_type: WEBMAP\n\u001b[0;31m---------------------------------------------------------------------------\u001b[0m"
     ]
    }
   ],
   "source": [
    "import arcpy\n",
    "\n",
    "# Current arcgis project\n",
    "aprx = arcpy.mp.ArcGISProject(\"CURRENT\")\n",
    "\n",
    "# Define the map to publish (update with the name of your map in ArcGIS Pro)\n",
    "map_name = \"Map\"\n",
    "map_to_publish = aprx.listMaps(map_name)[0]\n",
    "\n",
    "# Define output service parameters\n",
    "service_name = \"Airfield Pavement Markings\"  # Set a name for the published service\n",
    "output_server_folder = \"Airfield Pavement Markings\"  # Define the folder on the server or portal (set None for root)\n",
    "\n",
    "# Get the active portal\n",
    "active_portal = arcpy.GetActivePortalURL()  # Make sure you're logged in!\n",
    "print(f\"Active Portal: {active_portal}\")\n",
    "\n",
    "# Define the service draft\n",
    "sddraft_path = r\"\\\\cgaueprodgissa01.cimic.group\\gis-share\\Projects\\VIC\\VIC_HAS\\WORKING\\NR\\Service Definition\\service_definition.sddraft\"\n",
    "sd_path = r\"\\\\cgaueprodgissa01.cimic.group\\gis-share\\Projects\\VIC\\VIC_HAS\\WORKING\\NR\\Service Definition\\service_definition.sd\"\n",
    "\n",
    "# Create a web layer sharing draft\n",
    "sharing_draft = map_to_publish.getWebLayerSharingDraft(\"HOSTING_SERVER\", \"WEBMAP\", service_name)\n",
    "sharing_draft.portalFolder = output_server_folder  # Default is same as server folder assign the portal folder\n",
    "\n",
    "# Export to a Service Definition Draft file\n",
    "sharing_draft.exportToSDDraft(sddraft_path)\n",
    "\n",
    "# Stage the service (create .sd file)\n",
    "arcpy.StageService_server(sddraft_path, sd_path)\n",
    "\n",
    "# Publish the service to the active portal\n",
    "arcpy.UploadServiceDefinition_server(sd_path, \"My Hosted Services\")\n",
    "\n",
    "print(\"Web map successfully published!\")"
   ]
  },
  {
   "cell_type": "markdown",
   "metadata": {},
   "source": [
    "# Delete extra resources"
   ]
  }
 ],
 "metadata": {
  "kernelspec": {
   "display_name": "ArcGISPro",
   "language": "Python",
   "name": "python3"
  },
  "language_info": {
   "file_extension": ".py",
   "name": "python",
   "version": "3"
  }
 },
 "nbformat": 4,
 "nbformat_minor": 2
}
